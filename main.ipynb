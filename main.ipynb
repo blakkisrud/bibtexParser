{
 "cells": [
  {
   "cell_type": "markdown",
   "metadata": {},
   "source": [
    "# Parser for bibtex\n",
    "\n",
    "Scipt to do the following:\n",
    "\n",
    "1) Take a beamer-presentation-file\n",
    "2) Connect label in the form of \"LastnameYear\" and make a small one-line footnote for the reference\n",
    "\n"
   ]
  },
  {
   "cell_type": "code",
   "execution_count": 71,
   "metadata": {
    "collapsed": false
   },
   "outputs": [
    {
     "ename": "UnboundLocalError",
     "evalue": "local variable 'number_text' referenced before assignment",
     "output_type": "error",
     "traceback": [
      "\u001b[0;31m---------------------------------------------------------------------------\u001b[0m",
      "\u001b[0;31mUnboundLocalError\u001b[0m                         Traceback (most recent call last)",
      "\u001b[0;32m<ipython-input-71-e2cd9a4be7ac>\u001b[0m in \u001b[0;36m<module>\u001b[0;34m()\u001b[0m\n\u001b[1;32m     23\u001b[0m     \u001b[0marticle_element\u001b[0m \u001b[1;33m=\u001b[0m \u001b[0mresults\u001b[0m\u001b[1;33m[\u001b[0m\u001b[0marticle_index\u001b[0m\u001b[1;33m[\u001b[0m\u001b[0mi\u001b[0m\u001b[1;33m]\u001b[0m\u001b[1;33m:\u001b[0m\u001b[0marticle_index\u001b[0m\u001b[1;33m[\u001b[0m\u001b[0mi\u001b[0m\u001b[1;33m+\u001b[0m\u001b[1;36m1\u001b[0m\u001b[1;33m]\u001b[0m\u001b[1;33m]\u001b[0m\u001b[1;33m\u001b[0m\u001b[0m\n\u001b[1;32m     24\u001b[0m \u001b[1;33m\u001b[0m\u001b[0m\n\u001b[0;32m---> 25\u001b[0;31m     \u001b[0marticle_d\u001b[0m \u001b[1;33m=\u001b[0m \u001b[0mmake_article_element\u001b[0m\u001b[1;33m(\u001b[0m\u001b[0marticle_element\u001b[0m\u001b[1;33m)\u001b[0m\u001b[1;33m\u001b[0m\u001b[0m\n\u001b[0m\u001b[1;32m     26\u001b[0m \u001b[1;33m\u001b[0m\u001b[0m\n\u001b[1;32m     27\u001b[0m \u001b[1;32mprint\u001b[0m \u001b[0marticle_d\u001b[0m\u001b[1;33m\u001b[0m\u001b[0m\n",
      "\u001b[0;32mC:\\Users\\Johan\\Documents\\Pet projects\\bibtexParser\\funcs.py\u001b[0m in \u001b[0;36mmake_article_element\u001b[0;34m(article_element)\u001b[0m\n\u001b[1;32m     68\u001b[0m         author_singe_text + year_text).replace(\"\\n\", \"\")\n\u001b[1;32m     69\u001b[0m     article_element_dict[\"FootNoteText\"] = (author_singe_text + \"et. al. \" + journal_text +\n\u001b[0;32m---> 70\u001b[0;31m                                             \", \" + volume_text + \"(\" + number_text + \") \" + year_text).replace(\"\\n\", \"\")\n\u001b[0m\u001b[1;32m     71\u001b[0m \u001b[1;33m\u001b[0m\u001b[0m\n\u001b[1;32m     72\u001b[0m     \u001b[1;32mreturn\u001b[0m \u001b[0marticle_element_dict\u001b[0m\u001b[1;33m\u001b[0m\u001b[0m\n",
      "\u001b[0;31mUnboundLocalError\u001b[0m: local variable 'number_text' referenced before assignment"
     ]
    }
   ],
   "source": [
    "import numpy as np\n",
    "from funcs import make_article_element\n",
    "\n",
    "bibtex_file = \"bib_nsnm_siemens.txt\"\n",
    "\n",
    "results = []\n",
    "with open(bibtex_file) as inputfile:\n",
    "    \n",
    "    for line in inputfile:\n",
    "        \n",
    "        results.append(line)\n",
    "        \n",
    "article_index = []\n",
    "\n",
    "for line, ind in zip(results, range(len(results))):\n",
    "    \n",
    "    if \"@article\" in line:\n",
    "        \n",
    "        article_index.append(ind)\n",
    "        \n",
    "for i in range(3):\n",
    "    \n",
    "    article_element = results[article_index[i]:article_index[i+1]]\n",
    "\n",
    "    article_d = make_article_element(article_element)\n",
    "\n",
    "print article_d\n",
    "\n"
   ]
  }
 ],
 "metadata": {
  "anaconda-cloud": {},
  "kernelspec": {
   "display_name": "Python [conda env:Anaconda2]",
   "language": "python",
   "name": "conda-env-Anaconda2-py"
  },
  "language_info": {
   "codemirror_mode": {
    "name": "ipython",
    "version": 2
   },
   "file_extension": ".py",
   "mimetype": "text/x-python",
   "name": "python",
   "nbconvert_exporter": "python",
   "pygments_lexer": "ipython2",
   "version": "2.7.12"
  }
 },
 "nbformat": 4,
 "nbformat_minor": 1
}
