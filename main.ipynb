{
 "cells": [
  {
   "cell_type": "markdown",
   "metadata": {},
   "source": [
    "# Parser for bibtex\n",
    "\n",
    "Scipt to do the following:\n",
    "\n",
    "1) Take a beamer-presentation-file\n",
    "2) Connect label in the form of \"LastnameYear\" and make a small one-line footnote for the reference\n"
   ]
  },
  {
   "cell_type": "code",
   "execution_count": 3,
   "metadata": {
    "collapsed": false
   },
   "outputs": [],
   "source": [
    "import numpy as np\n",
    "from funcs import make_article_element\n",
    "from funcs import make_list_of_reference_dicts\n",
    "from funcs import replace_labels_to_foot_notes\n",
    "\n",
    "\n",
    "replace_labels_to_foot_notes(bibtex_file=\"bib_nsnm_siemens.txt\",\n",
    "                            beamer_file = \"beamer.tex\",\n",
    "                            new_file_path = \"new_new_test.tex\")"
   ]
  }
 ],
 "metadata": {
  "anaconda-cloud": {},
  "kernelspec": {
   "display_name": "Python [conda env:Anaconda2]",
   "language": "python",
   "name": "conda-env-Anaconda2-py"
  },
  "language_info": {
   "codemirror_mode": {
    "name": "ipython",
    "version": 2
   },
   "file_extension": ".py",
   "mimetype": "text/x-python",
   "name": "python",
   "nbconvert_exporter": "python",
   "pygments_lexer": "ipython2",
   "version": "2.7.12"
  }
 },
 "nbformat": 4,
 "nbformat_minor": 1
}
